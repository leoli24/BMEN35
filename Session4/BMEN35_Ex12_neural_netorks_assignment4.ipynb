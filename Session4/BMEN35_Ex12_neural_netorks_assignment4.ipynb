{
  "nbformat": 4,
  "nbformat_minor": 0,
  "metadata": {
    "colab": {
      "provenance": [],
      "include_colab_link": true
    },
    "kernelspec": {
      "name": "python3",
      "display_name": "Python 3"
    },
    "language_info": {
      "name": "python"
    }
  },
  "cells": [
    {
      "cell_type": "markdown",
      "metadata": {
        "id": "view-in-github",
        "colab_type": "text"
      },
      "source": [
        "<a href=\"https://colab.research.google.com/github/leoli24/BMEN35/blob/main/Session4/BMEN35_Ex12_neural_netorks_assignment4.ipynb\" target=\"_parent\"><img src=\"https://colab.research.google.com/assets/colab-badge.svg\" alt=\"Open In Colab\"/></a>"
      ]
    },
    {
      "cell_type": "markdown",
      "source": [
        "# Assignment 4\n",
        "## Leo Li, BME5\n",
        "\n",
        "## Your mission is now the following:\n",
        "\n",
        "You will use a dataset from OpenML (https://www.openml.org/). If you look at their webpage there are a lot of dataset that you can use. In this assignment you will use the SPECTF dataset from OpemML. (More info on this dataset can be found here: https://www.openml.org/search?type=data&sort=runs&id=337&status=active and here https://archive.ics.uci.edu/ml/datasets/SPECTF+Heart) and the original paper (https://doi.org/10.1016/S0933-3657(01)00082-3 )\n",
        "\n",
        "You should do the following\n",
        "\n",
        "1.   Fetch the dataset from OpenML (data_id is 337)\n",
        "2.   Train a neural network (using sklearns MLPClassifier) with two hidden layers. You can try with diffrent number of neurons in the hidden layers. (https://scikit-learn.org/stable/modules/generated/sklearn.neural_network.MLPClassifier.html)\n",
        "3.   Find the accuracy, f1-score, precision, recall for the classifier\n",
        "4.   Plot the ROC-curve\n",
        "\n",
        "\n",
        "\n",
        "\n",
        "\n",
        "Some tips/hints:\n",
        "*   There is a nice little api from sklearn to fetch dataset from OpenML. (fetch_openml). Easiest way to get the data is to use its id.\n",
        "*   Once you get your data fetched from openML you can use data.data for your data/features and data.target for your targets/classes\n",
        "*   There is some trickery to get the imported data to a numpy array\n",
        "    I would use something like: `x = data.data.to_numpy()`  and` y = data.target.to_numpy()` and furtermore y is an array of string and we want it to be integers so we can change that with `y = y.astype(int)`\n",
        "*   A good number of neurons for the hidden layers are in the double digits.\n",
        "*   sklearn.metrics has built-in functionality to get the \"metrics\" you need (accuracy, f1-score, precision, recall and ROC-curve)\n",
        "\n",
        "\n",
        "\n",
        "We will start you off with some imports and you will fill in the rest.\n",
        "\n",
        "\n",
        "## When you have finished this assignment , save this notebook and submit it as assignment 4"
      ],
      "metadata": {
        "id": "NtwDyGfrmzd2"
      }
    },
    {
      "cell_type": "code",
      "source": [
        "from sklearn.datasets import fetch_openml \n",
        "import matplotlib.pyplot as plt\n",
        "from sklearn.neural_network import MLPClassifier\n",
        "from sklearn.metrics import accuracy_score, f1_score, recall_score, precision_score, RocCurveDisplay\n",
        "from sklearn.model_selection import train_test_split\n",
        "import pandas as pd\n",
        "\n",
        "## load data\n",
        "id = 337\n",
        "data = fetch_openml(data_id = id)\n",
        "X = data.data.to_numpy()\n",
        "y = data.target.to_numpy()\n",
        "y = y.astype(int)\n",
        "\n"
      ],
      "metadata": {
        "id": "GRj6dZVSrK3b"
      },
      "execution_count": 10,
      "outputs": []
    },
    {
      "cell_type": "code",
      "source": [
        "## split data into training and testing\n",
        "X_train, X_test, y_train, y_test = train_test_split(X,y,stratify=y,random_state=1)\n",
        "clf = MLPClassifier(hidden_layer_sizes = (2,50)).fit(X_test,y_test)\n",
        "\n",
        "y_hat = clf.predict(X_test) #Prediction\n",
        "\n",
        "#Metrics\n",
        "print(\"Accuracy: \", clf.score(X_test, y_test))\n",
        "print(\"Precision: \", precision_score(y_test, y_hat, average = None))\n",
        "print(\"Recall: \", recall_score(y_test, y_hat, average = None))\n",
        "print(\"F1 score: \",f1_score(y_test, y_hat, average = None))"
      ],
      "metadata": {
        "id": "Ejk4a7JMy-Du",
        "outputId": "d90cacca-aba4-41d7-fcb7-3102cf353bff",
        "colab": {
          "base_uri": "https://localhost:8080/"
        }
      },
      "execution_count": 11,
      "outputs": [
        {
          "output_type": "stream",
          "name": "stdout",
          "text": [
            "Accuracy:  0.7272727272727273\n",
            "Precision:  [0.         0.72727273]\n",
            "Recall:  [0. 1.]\n",
            "F1 score:  [0.         0.84210526]\n"
          ]
        },
        {
          "output_type": "stream",
          "name": "stderr",
          "text": [
            "/usr/local/lib/python3.7/dist-packages/sklearn/neural_network/_multilayer_perceptron.py:696: ConvergenceWarning: Stochastic Optimizer: Maximum iterations (200) reached and the optimization hasn't converged yet.\n",
            "  ConvergenceWarning,\n",
            "/usr/local/lib/python3.7/dist-packages/sklearn/metrics/_classification.py:1318: UndefinedMetricWarning: Precision is ill-defined and being set to 0.0 in labels with no predicted samples. Use `zero_division` parameter to control this behavior.\n",
            "  _warn_prf(average, modifier, msg_start, len(result))\n"
          ]
        }
      ]
    },
    {
      "cell_type": "code",
      "source": [
        "## ROC\n",
        "RocCurveDisplay.from_estimator(clf, X_test, y_test)\n",
        "plt.show()"
      ],
      "metadata": {
        "id": "LOS60fI29wL0",
        "outputId": "7478133b-1ea6-4e73-8ab9-0ab9b9d64424",
        "colab": {
          "base_uri": "https://localhost:8080/",
          "height": 279
        }
      },
      "execution_count": 14,
      "outputs": [
        {
          "output_type": "display_data",
          "data": {
            "text/plain": [
              "<Figure size 432x288 with 1 Axes>"
            ],
            "image/png": "[encoded data removed]"
          },
          "metadata": {
            "needs_background": "light"
          }
        }
      ]
    }
  ]
}