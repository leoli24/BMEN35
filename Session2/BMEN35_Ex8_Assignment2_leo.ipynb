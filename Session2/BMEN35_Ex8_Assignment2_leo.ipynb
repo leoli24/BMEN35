{
  "cells": [
    {
      "cell_type": "markdown",
      "metadata": {
        "id": "HRWK56LV6vbY"
      },
      "source": [
        "# Assignment 2\n",
        "\n",
        "## Fill in your name below\n",
        "Alexander Andersson, BME4\n",
        "\n",
        "## Your mission is now the following:\n",
        "You will use the Breast Cancer Wisconsin (Diagnostic) Data Set for this assignment. The dataset contains ten features computed for each cell nucleus. Features are computed from a digitized image of a fine needle aspirate (FNA) of a breast mass. They describe characteristics of the cell nuclei present in the image. You can find a description of this dataset here https://archive.ics.uci.edu/ml/datasets/Breast+Cancer+Wisconsin+(Diagnostic) The dataset is annotated, the mass is either malignant or benign.\n",
        "\n",
        "This dataset is \"built-in\" to sklearn so you do not need to download it separately.\n",
        "\n",
        "\n",
        "\n",
        "### When you have finished this assignment , save this notebook, download it and submit it as assignment 2\n"
      ]
    },
    {
      "cell_type": "markdown",
      "metadata": {
        "id": "TTLx5ZJE5Vh6"
      },
      "source": [
        "Lets start by importing some useful modules and we will import the data aswell."
      ]
    },
    {
      "cell_type": "code",
      "execution_count": 1,
      "metadata": {
        "id": "-_muO3bD9FYa"
      },
      "outputs": [],
      "source": [
        "import numpy as np # Always good to have...\n",
        "from sklearn.datasets import load_breast_cancer # We are going to use the Breast cancer dataset\n",
        "from sklearn.model_selection import train_test_split  # Split them data \n",
        "from sklearn.preprocessing import StandardScaler # Here we will also \"scale\" our data\n",
        "\n",
        "X, y = load_breast_cancer(return_X_y=True) # Load the dataset\n",
        "\n",
        "X_train, X_test, y_train, y_test = train_test_split(X,y, test_size=0.5, random_state=0) # Split the dataset into training and test\n"
      ]
    },
    {
      "cell_type": "markdown",
      "metadata": {
        "id": "BHVF9aLr5Vh9"
      },
      "source": [
        "So, now we have loaded the dataset, and we have split into a training set and a test set and we have standardized tat"
      ]
    },
    {
      "cell_type": "markdown",
      "metadata": {
        "id": "hsbTsoXrJCLX"
      },
      "source": [
        "In it generally good practise to \"scale/normalise\" your data before use (see p. 24 in the book why this is of importance). There are many possibilites here, but in this example we will `StandardScaler()` function. This function removes the means and scales to unit variance for each feature. (Check this for yourself, you should know how to do it, hint: np.mean() and np.var()). Also think about why we do it after the dataset is split into test and train."
      ]
    },
    {
      "cell_type": "code",
      "execution_count": 2,
      "metadata": {
        "id": "zO8NsVMhKDrU",
        "scrolled": true
      },
      "outputs": [],
      "source": [
        "scaler = StandardScaler()\n",
        "X_train = scaler.fit_transform(X_train) # We use the train data to find the scaling parameters\n",
        "X_test = scaler.transform(X_test)"
      ]
    },
    {
      "cell_type": "code",
      "source": [
        "print(np.mean(X_train), np.var(X_train))\n",
        "print(np.mean(X_test), np.var(X_test))"
      ],
      "metadata": {
        "id": "qO2e4sNk5E2B",
        "outputId": "e2fda2ae-cf2b-4e13-ff88-efdbb6b36b18",
        "colab": {
          "base_uri": "https://localhost:8080/"
        }
      },
      "execution_count": 4,
      "outputs": [
        {
          "output_type": "stream",
          "name": "stdout",
          "text": [
            "1.5845436595589088e-17 1.0\n",
            "-0.05350394850698012 0.9716605626901857\n"
          ]
        }
      ]
    },
    {
      "cell_type": "markdown",
      "metadata": {
        "id": "7odTXPvoK3V0"
      },
      "source": [
        "Now the data has been loaded and processed. In the next cell create a knn-classifier using 3 neighbors and use the sklearn library. Fill in the blanks"
      ]
    },
    {
      "cell_type": "code",
      "execution_count": 5,
      "metadata": {
        "id": "HqAi3mMhLvvN",
        "outputId": "363f4a65-da1a-43d7-c6b0-a7a581d84068",
        "colab": {
          "base_uri": "https://localhost:8080/"
        }
      },
      "outputs": [
        {
          "output_type": "stream",
          "name": "stdout",
          "text": [
            "0.9508771929824561\n"
          ]
        }
      ],
      "source": [
        "from sklearn.neighbors import KNeighborsClassifier\n",
        "from sklearn.metrics import accuracy_score\n",
        "clf = KNeighborsClassifier() # Fill in missing information\n",
        "clf.fit(X_train, y_train) # Fill in missing information\n",
        "y_hat = clf.predict(X_test)\n",
        "acc = accuracy_score(y_test,y_hat)\n",
        "print(acc)\n",
        "\n"
      ]
    },
    {
      "cell_type": "markdown",
      "metadata": {
        "id": "tiBX8tFW5ViD"
      },
      "source": [
        "Now do the same using a Decision Tree classifier. Hint: from sklearn.tree import DecisionTreeClassifier. Fill in the cell below"
      ]
    },
    {
      "cell_type": "code",
      "execution_count": 7,
      "metadata": {
        "id": "7EwGdYur5ViE",
        "outputId": "d7d35c49-e1e4-40d7-830d-5b859b96b452",
        "colab": {
          "base_uri": "https://localhost:8080/"
        }
      },
      "outputs": [
        {
          "output_type": "stream",
          "name": "stdout",
          "text": [
            "0.9122807017543859\n"
          ]
        }
      ],
      "source": [
        "# Fill in code for you Decision Tree classifier here.\n",
        "from sklearn.tree import DecisionTreeClassifier\n",
        "from sklearn.metrics import accuracy_score\n",
        "\n",
        "treeClf = DecisionTreeClassifier()\n",
        "treeClf.fit(X_train, y_train)\n",
        "Y_hat = treeClf.predict(X_test)\n",
        "print(accuracy_score(y_test, Y_hat))\n"
      ]
    },
    {
      "cell_type": "markdown",
      "metadata": {
        "id": "ExDDHi-15ViF"
      },
      "source": [
        "When you have finished this assignment , save this notebook and submit it as assignment 2 in Canvas.\n",
        "## The end"
      ]
    },
    {
      "cell_type": "code",
      "execution_count": null,
      "metadata": {
        "id": "DdcTWbrT5ViF"
      },
      "outputs": [],
      "source": []
    }
  ],
  "metadata": {
    "colab": {
      "collapsed_sections": [],
      "provenance": []
    },
    "kernelspec": {
      "display_name": "Python 3 (ipykernel)",
      "language": "python",
      "name": "python3"
    },
    "language_info": {
      "codemirror_mode": {
        "name": "ipython",
        "version": 3
      },
      "file_extension": ".py",
      "mimetype": "text/x-python",
      "name": "python",
      "nbconvert_exporter": "python",
      "pygments_lexer": "ipython3",
      "version": "3.8.13"
    }
  },
  "nbformat": 4,
  "nbformat_minor": 0
}